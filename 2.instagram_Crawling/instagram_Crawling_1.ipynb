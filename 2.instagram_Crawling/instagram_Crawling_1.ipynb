{
 "cells": [
  {
   "cell_type": "code",
   "execution_count": 3,
   "id": "fc292928",
   "metadata": {},
   "outputs": [],
   "source": [
    "# 파이썬으로 크롬 제어하기\n",
    "from selenium import webdriver\n",
    "driver = webdriver.Chrome('C:\\\\Users\\82104\\python level2\\chromedriver.exe')"
   ]
  },
  {
   "cell_type": "code",
   "execution_count": 4,
   "id": "442a09f2",
   "metadata": {},
   "outputs": [],
   "source": [
    "import time\n",
    "driver.get(\"http://www.instagram.com\")\n",
    "# 로딩하는 거 2초 정도 기다려주기\n",
    "driver.implicitly_wait(time_to_wait=2)\n",
    "# time.sleep(2)"
   ]
  },
  {
   "cell_type": "code",
   "execution_count": 5,
   "id": "fcfa077d",
   "metadata": {},
   "outputs": [],
   "source": [
    "# 인스타그램 로그인하기\n",
    "email = 'gildongee33@gmail.com'\n",
    "input_id = driver.find_elements_by_css_selector('input._2hvTZ.pexuQ.zyHYP')[0] \n",
    "input_id.clear()\n",
    "input_id.send_keys(email)\n",
    "\n",
    "password = '1234QWER!'\n",
    "input_pw = driver.find_elements_by_css_selector('input._2hvTZ.pexuQ.zyHYP')[1] \n",
    "input_pw.clear()\n",
    "input_pw.send_keys(password)\n",
    "input_pw.submit()\n",
    "time.sleep(3)"
   ]
  },
  {
   "cell_type": "code",
   "execution_count": 4,
   "id": "91265507",
   "metadata": {},
   "outputs": [],
   "source": [
    "# 검색결과 url만들기 with 함수\n",
    "def insta_searching(word):\n",
    "    url = 'http://www.instagram.com/explore/tags/' + word\n",
    "    return url"
   ]
  },
  {
   "cell_type": "code",
   "execution_count": 5,
   "id": "cd916530",
   "metadata": {},
   "outputs": [],
   "source": [
    "# 검색결과 페이지 접속하기\n",
    "word = \"대구카페\"\n",
    "url = insta_searching(word)\n",
    "driver.get(url)"
   ]
  },
  {
   "cell_type": "code",
   "execution_count": 7,
   "id": "9b685afd",
   "metadata": {},
   "outputs": [],
   "source": [
    "# HTML 에서 첫번째 게시글 찾아 클릭하기\n",
    "def select_first(driver):\n",
    "    first = driver.find_element_by_css_selector(\"div._9AhH0\")\n",
    "    first.click()\n",
    "    time.sleep(3)\n",
    "    \n",
    "select_first(driver)"
   ]
  },
  {
   "cell_type": "code",
   "execution_count": 8,
   "id": "1770c576",
   "metadata": {},
   "outputs": [],
   "source": [
    "# 다음 게시글 읽기\n",
    "def move_next(driver):\n",
    "    right = driver.find_element_by_css_selector('a.coreSpriteRightPaginationArrow')\n",
    "    right.click()\n",
    "    time.sleep(3)\n",
    "    \n",
    "move_next(driver)"
   ]
  },
  {
   "cell_type": "code",
   "execution_count": 9,
   "id": "7d044243",
   "metadata": {},
   "outputs": [
    {
     "data": {
      "text/plain": [
       "['요때는 좀 상콤했던 거 같은데ㅔ...', '2021-08-10', '158', '', []]"
      ]
     },
     "execution_count": 9,
     "metadata": {},
     "output_type": "execute_result"
    }
   ],
   "source": [
    "# 게시글 정보 가져오기\n",
    "import re\n",
    "from bs4 import BeautifulSoup\n",
    "import unicodedata\n",
    "\n",
    "def get_content(driver):\n",
    "    # 1. 현재 페이지 html 정보 가져오기\n",
    "    html = driver.page_source\n",
    "    soup = BeautifulSoup(html,'html.parser')\n",
    "    # 2. 본문 내용 가져오기\n",
    "    try: \n",
    "        content = soup.select('div.C4VMK> span')[0].text\n",
    "        content = unicodedata.normalize('NFC',content)\n",
    "    except:\n",
    "        content = ' '\n",
    "    # 3. 본문 내용에서 해시태그를 가져오기(정규식 활용)\n",
    "    tags = re.findall(r'#[^\\s#,\\\\]+',content)  \n",
    "    # 4. 작성일자 정복 가져오기\n",
    "    date = soup.select('time._1o9PC.Nzb55')[0]['datetime'][:10]\n",
    "    # 5. 좋아요 수 가져오기\n",
    "    try:\n",
    "        like = soup.select('div.Nm9Fw')[0].text.split(' ')[1].split('개')[0]\n",
    "    except:\n",
    "        like = 0\n",
    "    # 6. 위치정보 가져오기\n",
    "    try:\n",
    "        place = soup.select('div.M30cS')[0].text\n",
    "        place = unicodedata.normalize('NFC',place)\n",
    "    except:\n",
    "        place = ''\n",
    "    # 7. 수집한 정보 저장하기\n",
    "    data = [content,date,like,place,tags]\n",
    "    return data\n",
    "    \n",
    "get_content(driver)"
   ]
  },
  {
   "cell_type": "code",
   "execution_count": 10,
   "id": "fd4be40a",
   "metadata": {},
   "outputs": [],
   "source": [
    "# 인스타그램 크롤링 1\n",
    "from selenium import webdriver\n",
    "from bs4 import BeautifulSoup\n",
    "import time\n",
    "import re\n",
    "\n",
    "# 1.크롬 브라우저 열기\n",
    "driver = webdriver.Chrome('C:\\\\Users\\82104\\python level2\\chromedriver.exe')\n",
    "\n",
    "driver.get(\"http://www.instagram.com\")\n",
    "# 로딩하는 거 2초 정도 기다려주기\n",
    "time.sleep(2)"
   ]
  },
  {
   "cell_type": "code",
   "execution_count": 11,
   "id": "9bff5768",
   "metadata": {},
   "outputs": [],
   "source": [
    "# 인스타그램 로그인하기\n",
    "email = 'gildongee33@gmail.com'\n",
    "input_id = driver.find_elements_by_css_selector('input._2hvTZ.pexuQ.zyHYP')[0] \n",
    "input_id.clear()\n",
    "input_id.send_keys(email)\n",
    "\n",
    "password = '1234QWER!'\n",
    "input_pw = driver.find_elements_by_css_selector('input._2hvTZ.pexuQ.zyHYP')[1] \n",
    "input_pw.clear()\n",
    "input_pw.send_keys(password)\n",
    "input_pw.submit()\n",
    "time.sleep(3)"
   ]
  },
  {
   "cell_type": "code",
   "execution_count": 15,
   "id": "f1ca9db8",
   "metadata": {},
   "outputs": [],
   "source": [
    "# 인스타그램 크롤링 2 \n",
    "# 2. 인스타그램 검색페이지 URL 만들기\n",
    "word = '대구카페'\n",
    "url = insta_searching(word)\n",
    "\n",
    "# 3. 검색페이지 접속하기\n",
    "driver.get(url)\n",
    "time.sleep(10)\n",
    "\n",
    "# 4. 첫번째 게시글 열기\n",
    "first = driver.find_element_by_css_selector(\"div._9AhH0\")\n",
    "first.click()\n",
    "time.sleep(3)"
   ]
  },
  {
   "cell_type": "code",
   "execution_count": 16,
   "id": "7bd81971",
   "metadata": {},
   "outputs": [],
   "source": [
    "# 5. 비어 있는 변수(results) 만들기\n",
    "results = [ ]\n",
    "\n",
    "# 6. 여러 게시글 수집하기\n",
    "target = 500\n",
    "# 크롤링할 게시글 수\n",
    "for i in range(target):\n",
    "    # 게시글 수집에 오류 발생시 2초 대기 후 , 다음 글로 넘어가\n",
    "    try:\n",
    "        data = get_content(driver)\n",
    "        results.append(data)\n",
    "        move_next(driver)\n",
    "    except:\n",
    "        time.sleep(10)\n",
    "        move_next(driver)\n"
   ]
  },
  {
   "cell_type": "code",
   "execution_count": 17,
   "id": "437e50d0",
   "metadata": {},
   "outputs": [],
   "source": [
    "# 크롤링 결과 저장하기\n",
    "import pandas as pd\n",
    "results_df = pd.DataFrame(results)\n",
    "results_df.columns = ['content','date','like','place','tags']\n",
    "results_df.to_excel('./files/1_crawling_daegucafe_500.xlsx')"
   ]
  },
  {
   "cell_type": "code",
   "execution_count": null,
   "id": "d8642aaa",
   "metadata": {},
   "outputs": [],
   "source": []
  }
 ],
 "metadata": {
  "kernelspec": {
   "display_name": "Python 3",
   "language": "python",
   "name": "python3"
  },
  "language_info": {
   "codemirror_mode": {
    "name": "ipython",
    "version": 3
   },
   "file_extension": ".py",
   "mimetype": "text/x-python",
   "name": "python",
   "nbconvert_exporter": "python",
   "pygments_lexer": "ipython3",
   "version": "3.8.8"
  }
 },
 "nbformat": 4,
 "nbformat_minor": 5
}
